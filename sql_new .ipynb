{
 "cells": [
  {
   "cell_type": "markdown",
   "metadata": {},
   "source": []
  },
  {
   "cell_type": "code",
   "execution_count": 1,
   "metadata": {},
   "outputs": [
    {
     "name": "stdout",
     "output_type": "stream",
     "text": [
      "Requirement already satisfied: psycopg2 in c:\\users\\supers\\anaconda3\\lib\\site-packages (2.9.5)\n",
      "Note: you may need to restart the kernel to use updated packages.\n"
     ]
    }
   ],
   "source": [
    "%pip install psycopg2    "
   ]
  },
  {
   "cell_type": "code",
   "execution_count": 1,
   "metadata": {},
   "outputs": [],
   "source": [
    "import psycopg2\n",
    "from psycopg2 import Error\n",
    "from psycopg2.extras import NamedTupleCursor\n",
    "\n",
    "def execute_query(query, fetch_result=False):\n",
    "    try:\n",
    "        connection = psycopg2.connect(\n",
    "                                database=\"postgres\", \n",
    "                                user='postgres',\n",
    "                                password='UltraAxe2014', \n",
    "                                host='localhost', \n",
    "                                port='5432'\n",
    "                     )\n",
    "        connection.autocommit = True\n",
    "        cursor = connection.cursor(cursor_factory=NamedTupleCursor)\n",
    "        cursor.execute(query)\n",
    "        if fetch_result:\n",
    "            return cursor.fetchall()\n",
    "    except (Exception, Error) as error:\n",
    "        print(\"Error while connecting to PostgreSQL\", error)\n",
    "    finally:\n",
    "        if (connection):\n",
    "            cursor.close()\n",
    "            connection.close()"
   ]
  },
  {
   "cell_type": "code",
   "execution_count": 2,
   "metadata": {},
   "outputs": [
    {
     "name": "stdout",
     "output_type": "stream",
     "text": [
      "CREATE DATABASE deliverydb;\n",
      "CREATE USER deliverydbuser with encrypted password 'deliverydb';\n",
      "Error while connecting to PostgreSQL ОШИБКА:  роль \"deliverydbuser\" уже существует\n",
      "\n",
      "GRANT ALL PRIVILEGES ON DATABASE deliverydb TO deliverydbuser;\n",
      "GRANT USAGE ON SCHEMA public TO deliverydbuser\n"
     ]
    }
   ],
   "source": [
    "sql_commands = [\"CREATE DATABASE deliverydb;\",\n",
    "                \"CREATE USER deliverydbuser with encrypted password 'deliverydb';\",\n",
    "                \"GRANT ALL PRIVILEGES ON DATABASE deliverydb TO deliverydbuser;\",\n",
    "                \"GRANT USAGE ON SCHEMA public TO deliverydbuser\"]\n",
    "\n",
    "for command in sql_commands:\n",
    "    print(command)\n",
    "    execute_query(command)"
   ]
  },
  {
   "cell_type": "code",
   "execution_count": 3,
   "metadata": {},
   "outputs": [],
   "source": [
    "\n",
    "query = \"\"\"CREATE TABLE IF NOT EXISTS restaurants (\n",
    "                id_rest INT NOT NULL PRIMARY KEY,\n",
    "                rest_name VARCHAR(255) NOT NULL,\n",
    "                rest_address  VARCHAR(255)  NOT NULL\n",
    "                         \n",
    "                  );\n",
    "        \"\"\"\n",
    "\n",
    "execute_query(query)\n",
    "\n",
    "query = \"\"\"DELETE FROM restaurants;\"\"\"\n",
    "execute_query(query)\n",
    "\n",
    "\n",
    "query = \"\"\"CREATE TABLE IF NOT EXISTS clients (\n",
    "                id_client INT PRIMARY KEY, \n",
    "                client_name VARCHAR(255) NOT NULL,  \n",
    "                phone VARCHAR(255) NOT NULL, \n",
    "                client_address VARCHAR(255) NOT NULL,  \n",
    "                id_card INT  \n",
    "                  );\n",
    "        \"\"\"\n",
    "\n",
    "execute_query(query)\n",
    "\n",
    "query = \"\"\"DELETE FROM clients;\"\"\"\n",
    "execute_query(query)\n",
    "\n",
    "query = \"\"\"DROP TABLE orders;\"\"\"\n",
    "execute_query(query)\n",
    "\n",
    "query = \"\"\"CREATE TABLE IF NOT EXISTS orders (\n",
    "                id_order INT PRIMARY KEY, \n",
    "                id_client INT NOT NULL, \n",
    "                payment VARCHAR(255) NOT NULL,\n",
    "                id_courier INT NOT NULL,\n",
    "                id_card INT,\n",
    "                price INT NOT NULL,\n",
    "                id_rest INT NOT NULL, \n",
    "                id_food VARCHAR(255) NOT NULL,\n",
    "                date_order TIMESTAMP NOT NULL, \n",
    "                status VARCHAR(255) NOT NULL,\n",
    "                promocode VARCHAR(255) \n",
    "                  );\n",
    "        \"\"\"\n",
    "\n",
    "execute_query(query)\n",
    "\n",
    "query = \"\"\"DELETE FROM orders;\"\"\"\n",
    "execute_query(query)\n",
    "\n",
    "query = \"\"\"CREATE TABLE IF NOT EXISTS cards_info (\n",
    "                id_card INT PRIMARY KEY, \n",
    "                card_number VARCHAR(255) NOT NULL,\n",
    "                id_client VARCHAR(255) NOT NULL, \n",
    "                card_type VARCHAR(255) NOT NULL\n",
    "                  );\n",
    "        \"\"\"\n",
    "\n",
    "execute_query(query)\n",
    "\n",
    "query = \"\"\"DELETE FROM cards;\"\"\"\n",
    "execute_query(query)\n",
    "\n",
    "query = \"\"\"CREATE TABLE IF NOT EXISTS couriers (\n",
    "                id_courier INT PRIMARY KEY, \n",
    "                name VARCHAR(255) NOT NULL, \n",
    "                phone VARCHAR(255) NOT NULL, \n",
    "                id_rest INT NOT NULL,\n",
    "                status VARCHAR(255) NOT NULL\n",
    "                  );\n",
    "        \"\"\"\n",
    "\n",
    "execute_query(query)\n",
    "\n",
    "query = \"\"\"DELETE FROM couriers;\"\"\"\n",
    "execute_query(query)\n",
    "\n",
    "query = \"\"\"CREATE TABLE IF NOT EXISTS promocodes (\n",
    "                code VARCHAR(255) NOT NULL, \n",
    "                discount INT NOT NULL\n",
    "                  \n",
    "                  );\n",
    "        \"\"\"\n",
    "\n",
    "execute_query(query)\n",
    "\n",
    "query = \"\"\"DELETE FROM promocodes;\"\"\"\n",
    "execute_query(query)\n",
    "\n",
    "query = \"\"\"CREATE TABLE IF NOT EXISTS menu (\n",
    "                id_food INT NOT NULL,\n",
    "                food_name VARCHAR(255) NOT NULL,\n",
    "                food_price INT NOT NULL  \n",
    "                  \n",
    "                  );\n",
    "        \"\"\"\n",
    "\n",
    "execute_query(query)\n",
    "\n",
    "query = \"\"\"DELETE FROM menu;\"\"\"\n",
    "execute_query(query)\n"
   ]
  },
  {
   "cell_type": "code",
   "execution_count": 4,
   "metadata": {},
   "outputs": [
    {
     "name": "stdout",
     "output_type": "stream",
     "text": [
      "Error while connecting to PostgreSQL ОШИБКА:  повторяющееся значение ключа нарушает ограничение уникальности \"cards_info_pkey\"\n",
      "DETAIL:  Ключ \"(id_card)=(1)\" уже существует.\n",
      "\n",
      "[Record(id_rest=1, rest_name='PizzaTime Atrium', rest_address='Zemlyanoy Val, 33'), Record(id_rest=2, rest_name='PizzaTime Rivera', rest_address='Autozavodskaya street, 18'), Record(id_rest=3, rest_name='PizzaTime CDM', rest_address='Teatralniy drive, 5/2'), Record(id_rest=4, rest_name='PizzaTime Aviapark', rest_address='Hodinskiy boulevard., 4')]\n",
      "[Record(id_client=1, client_name='Rumyantsev Ivan', phone='77008534415', client_address='Odintsovaya str. 11', id_card=1), Record(id_client=2, client_name='Zykov Dmitriy', phone='77008534416', client_address='Ozernaya str. 53', id_card=2), Record(id_client=3, client_name='Belova Kristina', phone='77008534417', client_address='Bakuleva str. 14', id_card=3), Record(id_client=4, client_name='Shcherbakova Arina', phone='77008534418', client_address='Polskaya str. 10', id_card=None), Record(id_client=5, client_name='Korneeva Ekaterina', phone='77008534419', client_address='Odintsovaya str. 12', id_card=None), Record(id_client=6, client_name='Evdokimov Aleksey', phone='77008534420', client_address='Kirpichniy per. 9', id_card=4), Record(id_client=7, client_name='Kuzmina Miya', phone='77008534421', client_address='Lesnaya str. 15', id_card=5), Record(id_client=8, client_name='Kalmykov Robert', phone='77008534422', client_address='Petrovka str., 6', id_card=6), Record(id_client=9, client_name='Nazarova Sofya', phone='77008534423', client_address='Tverskaya str., 24', id_card=7), Record(id_client=10, client_name='Volkova Kseniya', phone='77008534424', client_address='Tihaya str., 2', id_card=8)]\n",
      "[Record(id_food=1, food_name='pizza_cheese', food_price=350), Record(id_food=2, food_name='pizza_pepperoni', food_price=400), Record(id_food=3, food_name='pizza_roman', food_price=450), Record(id_food=4, food_name='pizza_4season', food_price=479), Record(id_food=5, food_name='pizza_belissimo', food_price=550), Record(id_food=6, food_name='pizza_doublecheese', food_price=390)]\n",
      "[Record(code='easy25', discount=25), Record(code='happynewyear', discount=15), Record(code='promo17', discount=17)]\n",
      "[Record(id_courier=1, name='Morozov Nikita', phone='77008544411', id_rest=1, status='busy'), Record(id_courier=2, name='Yudin Yaroslav', phone='77008544412', id_rest=1, status='ready'), Record(id_courier=3, name='Lazarev Maksim', phone='77008544413', id_rest=2, status='busy'), Record(id_courier=4, name='Romanov Aleksandr', phone='77008544414', id_rest=2, status='busy'), Record(id_courier=5, name='Akimov Daniil', phone='77008544415', id_rest=3, status='ready'), Record(id_courier=6, name='Ivanova Anna', phone='77008544416', id_rest=3, status='ready'), Record(id_courier=7, name='Grishin Vladislav', phone='77008544417', id_rest=4, status='ready'), Record(id_courier=8, name='Kolesnikova Marta', phone='77008544418', id_rest=4, status='busy')]\n",
      "[Record(id_order=1, id_client=1, payment='card', id_courier=1, id_card=1, price=550, id_rest=1, id_food='5', date_order=datetime.datetime(2021, 12, 14, 11, 36, 38), status='delivered', promocode=None), Record(id_order=2, id_client=1, payment='card', id_courier=1, id_card=1, price=400, id_rest=1, id_food='2', date_order=datetime.datetime(2022, 5, 19, 17, 45, 11), status='delivered', promocode=None), Record(id_order=3, id_client=1, payment='card', id_courier=2, id_card=1, price=400, id_rest=1, id_food='2', date_order=datetime.datetime(2022, 7, 17, 12, 32, 11), status='delivered', promocode=None), Record(id_order=4, id_client=2, payment='card', id_courier=2, id_card=2, price=300, id_rest=1, id_food='2', date_order=datetime.datetime(2021, 11, 16, 17, 45, 32), status='delivered', promocode='easy25'), Record(id_order=5, id_client=4, payment='cash', id_courier=5, id_card=None, price=479, id_rest=3, id_food='4', date_order=datetime.datetime(2022, 12, 17, 20, 5, 54), status='delivered', promocode=None), Record(id_order=6, id_client=5, payment='cash', id_courier=7, id_card=None, price=350, id_rest=4, id_food='1', date_order=datetime.datetime(2022, 12, 10, 10, 12, 32), status='delivered', promocode=None), Record(id_order=7, id_client=7, payment='card', id_courier=3, id_card=5, price=390, id_rest=2, id_food='6', date_order=datetime.datetime(2021, 12, 19, 17, 24, 42), status='not delivered', promocode=None), Record(id_order=8, id_client=7, payment='card', id_courier=4, id_card=5, price=450, id_rest=2, id_food='3', date_order=datetime.datetime(2022, 12, 19, 15, 45, 10), status='not delivered', promocode=None), Record(id_order=9, id_client=8, payment='card', id_courier=6, id_card=6, price=340, id_rest=3, id_food='2', date_order=datetime.datetime(2022, 4, 15, 12, 25, 43), status='delivered', promocode='happynewyear'), Record(id_order=10, id_client=9, payment='card', id_courier=2, id_card=7, price=400, id_rest=1, id_food='2', date_order=datetime.datetime(2022, 7, 16, 14, 20, 11), status='delivered', promocode=None), Record(id_order=11, id_client=10, payment='card', id_courier=8, id_card=8, price=350, id_rest=4, id_food='1', date_order=datetime.datetime(2021, 10, 19, 12, 45, 11), status='delivered', promocode=None), Record(id_order=12, id_client=10, payment='card', id_courier=8, id_card=8, price=550, id_rest=4, id_food='5', date_order=datetime.datetime(2022, 12, 19, 17, 55, 23), status='not delivered', promocode=None)]\n",
      "[Record(id_card=1, card_number='1234567890123456', id_client='1', card_type='Visa'), Record(id_card=2, card_number='2345678901234567', id_client='2', card_type='MasterCard'), Record(id_card=3, card_number='3456789012345678', id_client='3', card_type='Mir'), Record(id_card=4, card_number='4567890123456789', id_client='6', card_type='Mir'), Record(id_card=5, card_number='5678901234567890', id_client='7', card_type='Visa'), Record(id_card=6, card_number='6789012345678901', id_client='8', card_type='MasterCard'), Record(id_card=7, card_number='7890123456789012', id_client='9', card_type='Mir'), Record(id_card=8, card_number='8901234567890123', id_client='10', card_type='Visa')]\n"
     ]
    }
   ],
   "source": [
    "query = \"\"\" INSERT INTO restaurants (id_rest, rest_name, rest_address) \n",
    "            VALUES \n",
    "                 (1, 'PizzaTime Atrium', 'Zemlyanoy Val, 33'),\n",
    "                 (2, 'PizzaTime Rivera', 'Autozavodskaya street, 18'),\n",
    "                 (3, 'PizzaTime CDM', 'Teatralniy drive, 5/2'),\n",
    "                 (4, 'PizzaTime Aviapark', 'Hodinskiy boulevard., 4')\n",
    "        \"\"\"\n",
    "\n",
    "execute_query(query)\n",
    "\n",
    "query = \"\"\" INSERT INTO clients (id_client, client_name, phone, client_address, id_card) \n",
    "            VALUES \n",
    "                (1, 'Rumyantsev Ivan', '77008534415', 'Odintsovaya str. 11', 1),\n",
    "                (2, 'Zykov Dmitriy', '77008534416', 'Ozernaya str. 53', 2),\n",
    "                (3, 'Belova Kristina', '77008534417', 'Bakuleva str. 14', 3),\n",
    "                (4, 'Shcherbakova Arina', '77008534418', 'Polskaya str. 10', NULL),\n",
    "                (5, 'Korneeva Ekaterina', '77008534419', 'Odintsovaya str. 12', NULL),\n",
    "                (6, 'Evdokimov Aleksey', '77008534420', 'Kirpichniy per. 9', 4),\n",
    "                (7, 'Kuzmina Miya', '77008534421', 'Lesnaya str. 15', 5),\n",
    "                (8, 'Kalmykov Robert', '77008534422', 'Petrovka str., 6', 6),\n",
    "                (9, 'Nazarova Sofya', '77008534423', 'Tverskaya str., 24', 7),\n",
    "                (10, 'Volkova Kseniya', '77008534424', 'Tihaya str., 2', 8)\n",
    "        \"\"\"\n",
    "\n",
    "execute_query(query) \n",
    "\n",
    "\n",
    "query = \"\"\" INSERT INTO cards_info (id_card, card_number, id_client, card_type) \n",
    "            VALUES \n",
    "                (1, '1234567890123456', 1, 'Visa'),\n",
    "                (2, '2345678901234567', 2, 'MasterCard'),\n",
    "                (3, '3456789012345678', 3, 'Mir'),\n",
    "                (4, '4567890123456789', 6, 'Mir'),\n",
    "                (5, '5678901234567890', 7, 'Visa'),\n",
    "                (6, '6789012345678901', 8, 'MasterCard'),\n",
    "                (7, '7890123456789012', 9, 'Mir'),\n",
    "                (8, '8901234567890123', 10, 'Visa')\n",
    "               \n",
    "            \n",
    "        \"\"\"\n",
    "\n",
    "execute_query(query) \n",
    "\n",
    "\n",
    "query = \"\"\" INSERT INTO menu (id_food, food_name, food_price) \n",
    "            VALUES \n",
    "                (1, 'pizza_cheese', 350),\n",
    "                (2, 'pizza_pepperoni', 400),\n",
    "                (3, 'pizza_roman', 450),\n",
    "                (4, 'pizza_4season', 479),\n",
    "                (5, 'pizza_belissimo', 550),\n",
    "                (6, 'pizza_doublecheese', 390)  \n",
    "        \"\"\"\n",
    "\n",
    "execute_query(query) \n",
    "\n",
    "\n",
    "query = \"\"\" INSERT INTO promocodes (code, discount) \n",
    "            VALUES \n",
    "                ('easy25', 25),\n",
    "                ('happynewyear', 15),\n",
    "                ('promo17', 17)\n",
    "                \n",
    "            \n",
    "        \"\"\"\n",
    "\n",
    "execute_query(query) \n",
    "\n",
    "\n",
    "query = \"\"\" INSERT INTO couriers (id_courier, name, phone, id_rest, status) \n",
    "            VALUES \n",
    "                (1, 'Morozov Nikita', '77008544411', 1, 'busy'),\n",
    "                (2, 'Yudin Yaroslav', '77008544412', 1, 'ready'),\n",
    "                (3, 'Lazarev Maksim', '77008544413', 2, 'busy'),\n",
    "                (4, 'Romanov Aleksandr', '77008544414', 2, 'busy'),\n",
    "                (5, 'Akimov Daniil', '77008544415', 3, 'ready'),\n",
    "                (6, 'Ivanova Anna', '77008544416', 3, 'ready'),\n",
    "                (7, 'Grishin Vladislav', '77008544417', 4, 'ready'),\n",
    "                (8, 'Kolesnikova Marta', '77008544418', 4, 'busy')\n",
    "                \n",
    "                \n",
    "        \"\"\"\n",
    "\n",
    "execute_query(query) \n",
    "\n",
    "#проставить даты, статус заказа, сделать запросы\n",
    "query = \"\"\" INSERT INTO orders (id_order, id_client, payment, id_courier, id_card, price, id_rest, id_food, date_order, status, promocode) \n",
    "            VALUES \n",
    "                (1, 1, 'card', 1, 1, 550, 1, 5, to_timestamp('14-12-2021 11:36:38', 'dd-mm-yyyy hh24:mi:ss'), 'delivered', NULL),\n",
    "                (2, 1, 'card', 1, 1, 400, 1, 2, to_timestamp('19-5-2022 17:45:11', 'dd-mm-yyyy hh24:mi:ss'), 'delivered', NULL),\n",
    "                (3, 1, 'card', 2, 1, 400, 1, 2, to_timestamp('17-7-2022 12:32:11', 'dd-mm-yyyy hh24:mi:ss'),'delivered', NULL),\n",
    "                (4, 2, 'card', 2, 2, 300, 1, 2, to_timestamp('16-11-2021 17:45:32', 'dd-mm-yyyy hh24:mi:ss'),'delivered', 'easy25'),\n",
    "                (5, 4, 'cash', 5, NULL, 479, 3, 4, to_timestamp('17-12-2022 20:05:54', 'dd-mm-yyyy hh24:mi:ss'),'delivered', NULL),\n",
    "                (6, 5, 'cash', 7, NULL, 350, 4, 1, to_timestamp('10-12-2022 10:12:32', 'dd-mm-yyyy hh24:mi:ss'),'delivered', NULL),\n",
    "                (7, 7, 'card', 3, 5, 390, 2, 6, to_timestamp('19-12-2021 17:24:42', 'dd-mm-yyyy hh24:mi:ss'),'not delivered', NULL),\n",
    "                (8, 7, 'card', 4, 5, 450, 2, 3, to_timestamp('19-12-2022 15:45:10', 'dd-mm-yyyy hh24:mi:ss'),'not delivered', NULL),\n",
    "                (9, 8, 'card', 6, 6, 340, 3, 2, to_timestamp('15-4-2022 12:25:43', 'dd-mm-yyyy hh24:mi:ss'),'delivered', 'happynewyear'),\n",
    "                (10, 9, 'card', 2, 7, 400, 1, 2, to_timestamp('16-7-2022 14:20:11', 'dd-mm-yyyy hh24:mi:ss'),'delivered', NULL),\n",
    "                (11, 10, 'card', 8, 8, 350, 4, 1, to_timestamp('19-10-2021 12:45:11', 'dd-mm-yyyy hh24:mi:ss'),'delivered', NULL),\n",
    "                (12, 10, 'card', 8, 8, 550, 4, 5, to_timestamp('19-12-2022 17:55:23', 'dd-mm-yyyy hh24:mi:ss'),'not delivered', NULL)\n",
    "                \n",
    "                \n",
    "                \n",
    "                \n",
    "                \n",
    "                \n",
    "        \"\"\"\n",
    "\n",
    "\n",
    "execute_query(query) \n",
    "\n",
    "\n",
    "print(execute_query(\"select * from restaurants\", fetch_result=True))\n",
    "print(execute_query(\"select * from clients\", fetch_result=True))\n",
    "print(execute_query(\"select * from menu\", fetch_result=True))\n",
    "print(execute_query(\"select * from promocodes\", fetch_result=True))\n",
    "print(execute_query(\"select * from couriers\", fetch_result=True))\n",
    "print(execute_query(\"select * from orders\", fetch_result=True))\n",
    "print(execute_query(\"select * from cards_info\", fetch_result=True))"
   ]
  },
  {
   "cell_type": "code",
   "execution_count": 5,
   "metadata": {},
   "outputs": [
    {
     "name": "stdout",
     "output_type": "stream",
     "text": [
      "[Record(sum=1590, year=Decimal('2021')), Record(sum=3369, year=Decimal('2022'))]\n"
     ]
    }
   ],
   "source": [
    "year_income = execute_query(\"\"\"\n",
    "                            SELECT SUM(price), EXTRACT(YEAR FROM date_order) AS year\n",
    "                            FROM orders\n",
    "                            GROUP BY year;\n",
    "                            \"\"\", fetch_result=True)\n",
    "print(year_income)"
   ]
  },
  {
   "cell_type": "code",
   "execution_count": 6,
   "metadata": {},
   "outputs": [
    {
     "name": "stdout",
     "output_type": "stream",
     "text": [
      "[Record(id_order=7), Record(id_order=8), Record(id_order=12)]\n"
     ]
    }
   ],
   "source": [
    "notdelivered = execute_query(\"\"\"\n",
    "                            SELECT id_order\n",
    "                            FROM (SELECT *\n",
    "                            FROM orders\n",
    "                            WHERE status = 'not delivered') as nd;\n",
    "                            \"\"\", fetch_result=True)\n",
    "print(notdelivered)"
   ]
  },
  {
   "cell_type": "code",
   "execution_count": 7,
   "metadata": {},
   "outputs": [
    {
     "name": "stdout",
     "output_type": "stream",
     "text": [
      "[Record(name='Morozov Nikita', count=2), Record(name='Romanov Aleksandr', count=1), Record(name='Kolesnikova Marta', count=2), Record(name='Lazarev Maksim', count=1), Record(name='Ivanova Anna', count=1), Record(name='Yudin Yaroslav', count=3), Record(name='Grishin Vladislav', count=1), Record(name='Akimov Daniil', count=1)]\n"
     ]
    }
   ],
   "source": [
    "courier_orders = execute_query(\"\"\"\n",
    "                               SELECT name, COUNT(orders.id_courier)\n",
    "                               FROM orders JOIN couriers on couriers.id_courier = orders.id_courier\n",
    "                               GROUP BY name;\n",
    "                               \"\"\", fetch_result=True)\n",
    "print(courier_orders)"
   ]
  },
  {
   "cell_type": "code",
   "execution_count": 9,
   "metadata": {},
   "outputs": [
    {
     "name": "stdout",
     "output_type": "stream",
     "text": [
      "[Record(id_order=9, extract=Decimal('4')), Record(id_order=2, extract=Decimal('5')), Record(id_order=10, extract=Decimal('7')), Record(id_order=3, extract=Decimal('7')), Record(id_order=11, extract=Decimal('10')), Record(id_order=4, extract=Decimal('11')), Record(id_order=12, extract=Decimal('12')), Record(id_order=5, extract=Decimal('12')), Record(id_order=6, extract=Decimal('12')), Record(id_order=7, extract=Decimal('12')), Record(id_order=8, extract=Decimal('12')), Record(id_order=1, extract=Decimal('12'))]\n"
     ]
    }
   ],
   "source": [
    "ordersbymonth = execute_query(\"\"\"\n",
    "                              SELECT id_order, EXTRACT(MONTH FROM date_order)\n",
    "                              FROM orders\n",
    "                              ORDER BY EXTRACT(MONTH FROM date_order) ASC;\n",
    "                              \"\"\", fetch_result=True)\n",
    "print(ordersbymonth)"
   ]
  },
  {
   "cell_type": "code",
   "execution_count": 10,
   "metadata": {},
   "outputs": [
    {
     "name": "stdout",
     "output_type": "stream",
     "text": [
      "Error while connecting to PostgreSQL ОШИБКА:  оператор не существует: character varying = integer\n",
      "LINE 3: ...          FROM orders JOIN menu ON orders.id_food = menu.id_...\n",
      "                                                             ^\n",
      "HINT:  Оператор с данными именем и типами аргументов не найден. Возможно, вам следует добавить явные приведения типов.\n",
      "\n",
      "None\n"
     ]
    }
   ],
   "source": []
  },
  {
   "cell_type": "code",
   "execution_count": null,
   "metadata": {},
   "outputs": [],
   "source": []
  }
 ],
 "metadata": {
  "interpreter": {
   "hash": "31f2aee4e71d21fbe5cf8b01ff0e069b9275f58929596ceb00d14d90e3e16cd6"
  },
  "kernelspec": {
   "display_name": "Python 3 (ipykernel)",
   "language": "python",
   "name": "python3"
  },
  "language_info": {
   "codemirror_mode": {
    "name": "ipython",
    "version": 3
   },
   "file_extension": ".py",
   "mimetype": "text/x-python",
   "name": "python",
   "nbconvert_exporter": "python",
   "pygments_lexer": "ipython3",
   "version": "3.9.13"
  }
 },
 "nbformat": 4,
 "nbformat_minor": 2
}
